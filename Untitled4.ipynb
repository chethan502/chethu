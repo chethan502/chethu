{
 "cells": [
  {
   "cell_type": "code",
   "execution_count": 2,
   "id": "589211d6-5657-4768-ba32-fdac0290cd86",
   "metadata": {},
   "outputs": [
    {
     "name": "stdout",
     "output_type": "stream",
     "text": [
      "[[1 2]\n",
      " [6 7]]\n",
      "[[3 4]\n",
      " [5 9]]\n",
      "[11 12 13 14]\n",
      "\n",
      " reverse of array\n",
      "[14 13 12 11]\n",
      "\n",
      " concatenate axis=0\n",
      "[[1 2]\n",
      " [6 7]\n",
      " [3 4]\n",
      " [5 9]]\n",
      "\n",
      " concatenate axis=1\n",
      "[[1 2 3 4]\n",
      " [6 7 5 9]]\n",
      "\n",
      " concatenate of array\n",
      "[11 12 13 14 15 16 17 18]\n"
     ]
    }
   ],
   "source": [
    "import numpy as np\n",
    "data = np.array([[1,2],[6,7]])\n",
    "data2= np.array([[3,4],[5,9]])\n",
    "d= np.array([11,12,13,14])\n",
    "print (data)\n",
    "print (data2)\n",
    "print (d)\n",
    "print(\"\\n reverse of array\")\n",
    "print (np.flip(d))\n",
    "print(\"\\n concatenate axis=0\")\n",
    "print (np.concatenate((data,data2),axis=0))\n",
    "print(\"\\n concatenate axis=1\")\n",
    "print (np.concatenate((data,data2),axis=1))\n",
    "a=np.array([15,16,17,18])\n",
    "print(\"\\n concatenate of array\")\n",
    "print (np.concatenate((d,a)))"
   ]
  },
  {
   "cell_type": "code",
   "execution_count": null,
   "id": "a0580d65-3f2d-4e60-933d-59a120cf71d2",
   "metadata": {},
   "outputs": [],
   "source": []
  }
 ],
 "metadata": {
  "kernelspec": {
   "display_name": "Python 3 (ipykernel)",
   "language": "python",
   "name": "python3"
  },
  "language_info": {
   "codemirror_mode": {
    "name": "ipython",
    "version": 3
   },
   "file_extension": ".py",
   "mimetype": "text/x-python",
   "name": "python",
   "nbconvert_exporter": "python",
   "pygments_lexer": "ipython3",
   "version": "3.12.4"
  }
 },
 "nbformat": 4,
 "nbformat_minor": 5
}
